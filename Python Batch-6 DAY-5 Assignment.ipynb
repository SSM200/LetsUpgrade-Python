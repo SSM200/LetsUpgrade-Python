{
 "cells": [
  {
   "cell_type": "markdown",
   "metadata": {},
   "source": [
    "# Assignment 1-->To sort the given list and print all the zeros on the right\n",
    "Given list-->[0,1,2,10,4,1,0,56,2,0,1,3,0,56,0,4]"
   ]
  },
  {
   "cell_type": "code",
   "execution_count": 1,
   "metadata": {},
   "outputs": [],
   "source": [
    "list1=[0,1,2,10,4,1,0,56,2,0,1,3,0,56,0,4]"
   ]
  },
  {
   "cell_type": "code",
   "execution_count": 2,
   "metadata": {},
   "outputs": [],
   "source": [
    "M=max(list1)\n",
    "\n",
    "def fun1(x):\n",
    "    if x==0:\n",
    "        return(M+1)\n",
    "    else:\n",
    "        return(x)\n",
    "    \n",
    "list1.sort(key=fun1)    "
   ]
  },
  {
   "cell_type": "code",
   "execution_count": 3,
   "metadata": {},
   "outputs": [
    {
     "data": {
      "text/plain": [
       "[1, 1, 1, 2, 2, 3, 4, 4, 10, 56, 56, 0, 0, 0, 0, 0]"
      ]
     },
     "execution_count": 3,
     "metadata": {},
     "output_type": "execute_result"
    }
   ],
   "source": [
    "list1"
   ]
  },
  {
   "cell_type": "markdown",
   "metadata": {},
   "source": [
    "# Assignment 2-->Merge two given sorted lists into one sorted list"
   ]
  },
  {
   "cell_type": "code",
   "execution_count": 6,
   "metadata": {},
   "outputs": [],
   "source": [
    "list1=[10,20,40,60,70,80]\n",
    "list2=[5,15,25,35,45,60]"
   ]
  },
  {
   "cell_type": "code",
   "execution_count": 7,
   "metadata": {},
   "outputs": [
    {
     "name": "stdout",
     "output_type": "stream",
     "text": [
      "[5, 10, 15, 20, 25, 35, 40, 45, 60, 70, 80]\n"
     ]
    }
   ],
   "source": [
    "i1=0\n",
    "i2=0\n",
    "list3=[]\n",
    "while i1<len(list1) and i2<len(list2):\n",
    "    if list1[i1] < list2[i2] :\n",
    "        list3.append(list1[i1])\n",
    "        i1+=1\n",
    "    elif list1[i1] > list2[i2] :\n",
    "        list3.append(list2[i2])\n",
    "        i2+=1\n",
    "    else:\n",
    "        list3.append(list1[i1])\n",
    "        i1+=1\n",
    "        i2+=1\n",
    "        if i1 != len(list1):\n",
    "            list3.append(list1[i1])\n",
    "            i1+=1\n",
    "        else:\n",
    "            list3.append(list2[i2])\n",
    "            i2+=1\n",
    "        if i1!= len(list1):\n",
    "            list3.append(list1[i1])\n",
    "        if i2!= len(list2):\n",
    "            list3.append(list2[i2])\n",
    "        \n",
    "print(list3)"
   ]
  }
 ],
 "metadata": {
  "kernelspec": {
   "display_name": "Python 3",
   "language": "python",
   "name": "python3"
  },
  "language_info": {
   "codemirror_mode": {
    "name": "ipython",
    "version": 3
   },
   "file_extension": ".py",
   "mimetype": "text/x-python",
   "name": "python",
   "nbconvert_exporter": "python",
   "pygments_lexer": "ipython3",
   "version": "3.7.6"
  }
 },
 "nbformat": 4,
 "nbformat_minor": 4
}
