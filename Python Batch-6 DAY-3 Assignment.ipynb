{
 "cells": [
  {
   "cell_type": "markdown",
   "metadata": {},
   "source": [
    "# Assignment 1: Sum of n numbers using while loop"
   ]
  },
  {
   "cell_type": "code",
   "execution_count": 7,
   "metadata": {},
   "outputs": [
    {
     "name": "stdout",
     "output_type": "stream",
     "text": [
      "Numbers to be added:10\n",
      "Sum of numbers is  55\n"
     ]
    }
   ],
   "source": [
    "sum1=0\n",
    "num1=int(input(\"Numbers to be added:\"))\n",
    "each=1\n",
    "while each<=num1:\n",
    "    sum1=sum1 + each\n",
    "    each=each + 1\n",
    "print(\"Sum of numbers is \",sum1)\n"
   ]
  },
  {
   "cell_type": "markdown",
   "metadata": {},
   "source": [
    "# Assignment 2: Take an integer and find whether it is prime or not"
   ]
  },
  {
   "cell_type": "code",
   "execution_count": 21,
   "metadata": {},
   "outputs": [
    {
     "name": "stdout",
     "output_type": "stream",
     "text": [
      "Enter a number:59\n",
      "Entered number is Prime number\n"
     ]
    }
   ],
   "source": [
    "p=0\n",
    "q=0\n",
    "num1=int(input(\"Enter a number:\"))\n",
    "each=1\n",
    "while each<=num1:\n",
    "    p=num1%each\n",
    "    if p==0:\n",
    "        q=q+1\n",
    "    each=each + 1\n",
    "if q == 2:\n",
    "    print(\"Entered number is Prime number\")\n",
    "else: print(\"Entered number is not a prime number\")\n",
    "    "
   ]
  }
 ],
 "metadata": {
  "kernelspec": {
   "display_name": "Python 3",
   "language": "python",
   "name": "python3"
  },
  "language_info": {
   "codemirror_mode": {
    "name": "ipython",
    "version": 3
   },
   "file_extension": ".py",
   "mimetype": "text/x-python",
   "name": "python",
   "nbconvert_exporter": "python",
   "pygments_lexer": "ipython3",
   "version": "3.7.6"
  }
 },
 "nbformat": 4,
 "nbformat_minor": 4
}
