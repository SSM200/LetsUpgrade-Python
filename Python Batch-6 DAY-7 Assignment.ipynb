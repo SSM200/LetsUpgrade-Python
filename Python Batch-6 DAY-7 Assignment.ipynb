{
 "cells": [
  {
   "cell_type": "markdown",
   "metadata": {},
   "source": [
    "# Python Batch-6 DAY-7 Assignment"
   ]
  },
  {
   "cell_type": "code",
   "execution_count": 3,
   "metadata": {},
   "outputs": [
    {
     "name": "stdout",
     "output_type": "stream",
     "text": [
      "{'FTP': 21, 'SSH': 22, 'telnet': 23, 'http': 80}\n"
     ]
    }
   ],
   "source": [
    "#Assignment no.1\n",
    "#Use the dictionary, port1 = {21: \"FTP\", 22:\"SSH\", 23: \"telnet\", 80: \"http\"}, and make a new dictionary in which keys become values and values become keys, as shown: Port2 = {“FTP\":21, \"SSH\":22, “telnet\":23,\"http\": 80}\n",
    "\n",
    "port1={21:\"FTP\", 22:\"SSH\", 23:\"telnet\", 80:\"http\"}\n",
    "port2={}\n",
    "\n",
    "list1=port1.keys()\n",
    "list2=port1.values()\n",
    "\n",
    "port2=dict(list(zip(list2,list1)))\n",
    "\n",
    "print(port2)"
   ]
  },
  {
   "cell_type": "code",
   "execution_count": 4,
   "metadata": {},
   "outputs": [
    {
     "name": "stdout",
     "output_type": "stream",
     "text": [
      "[3, 7, 11, 9]\n"
     ]
    }
   ],
   "source": [
    "#Assignment no.2\n",
    "#To take a list of tuple and make a new list which contains the sum of number of tuples\n",
    "\n",
    "list1=[(1,2),(3,4),(5,6),(4,5)]\n",
    "list2=[]\n",
    "\n",
    "for i,k in list1:\n",
    "    list2.append(i+k)\n",
    "    \n",
    "print(list2)"
   ]
  },
  {
   "cell_type": "code",
   "execution_count": 8,
   "metadata": {},
   "outputs": [
    {
     "name": "stdout",
     "output_type": "stream",
     "text": [
      "[1, 2, 3, 1, 2, 'a', 'hit', 'less']\n"
     ]
    }
   ],
   "source": [
    "#Assignment no.3\n",
    "\n",
    "list1=[(1,2,3),[1,2],[\"a\",\"hit\",\"less\"]]\n",
    "list2=[]\n",
    "\n",
    "for each in list1:\n",
    "    for i in each:\n",
    "        list2.append(i)\n",
    "        \n",
    "print(list2)"
   ]
  }
 ],
 "metadata": {
  "kernelspec": {
   "display_name": "Python 3",
   "language": "python",
   "name": "python3"
  },
  "language_info": {
   "codemirror_mode": {
    "name": "ipython",
    "version": 3
   },
   "file_extension": ".py",
   "mimetype": "text/x-python",
   "name": "python",
   "nbconvert_exporter": "python",
   "pygments_lexer": "ipython3",
   "version": "3.7.6"
  }
 },
 "nbformat": 4,
 "nbformat_minor": 4
}
